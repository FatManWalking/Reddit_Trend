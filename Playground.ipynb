{
 "cells": [
  {
   "cell_type": "code",
   "execution_count": 101,
   "metadata": {},
   "outputs": [],
   "source": [
    "import pandas as pd \n",
    "from datetime import datetime\n",
    "from datetime import timedelta\n",
    "from collections import Counter\n"
   ]
  },
  {
   "cell_type": "code",
   "execution_count": 95,
   "metadata": {},
   "outputs": [
    {
     "name": "stderr",
     "output_type": "stream",
     "text": [
      "<ipython-input-95-2fe385dc71fb>:3: SettingWithCopyWarning: \n",
      "A value is trying to be set on a copy of a slice from a DataFrame.\n",
      "Try using .loc[row_indexer,col_indexer] = value instead\n",
      "\n",
      "See the caveats in the documentation: https://pandas.pydata.org/pandas-docs/stable/user_guide/indexing.html#returning-a-view-versus-a-copy\n",
      "  df['created'] = pd.to_datetime(df['created'],unit='s') #Convert unix timestamp2Datetime\n"
     ]
    }
   ],
   "source": [
    "unpickled_df = pd.read_pickle(\"Datenbasis.pkl\")\n",
    "df = unpickled_df[unpickled_df.subreddit != 'futbol'] #Delete Futbol (Italian)\n",
    "df['created'] = pd.to_datetime(df['created'],unit='s') #Convert unix timestamp2Datetime\n"
   ]
  },
  {
   "cell_type": "code",
   "execution_count": 96,
   "metadata": {},
   "outputs": [
    {
     "name": "stdout",
     "output_type": "stream",
     "text": [
      "2976\n",
      "31603\n"
     ]
    }
   ],
   "source": [
    "#Split in last 24h and evrything before\n",
    "today = datetime.today() - timedelta(days=1)  #Immer die letzten 24h nehmen\n",
    "mask_today = (df['created'] > today) \n",
    "df_today = df.loc[mask_today]\n",
    "print(len(df_today))\n",
    "df_today.reset_index(inplace=True,drop=True)\n",
    "\n",
    "\n",
    "mask_before = (df['created'] < today) \n",
    "df_before = df.loc[mask_before]\n",
    "print(len(df_before))\n",
    "df_before.reset_index(inplace=True,drop=True)"
   ]
  },
  {
   "cell_type": "markdown",
   "metadata": {},
   "source": [
    "# Tokens generieren"
   ]
  },
  {
   "cell_type": "code",
   "execution_count": 97,
   "metadata": {},
   "outputs": [
    {
     "name": "stderr",
     "output_type": "stream",
     "text": [
      "<ipython-input-97-a1f846e45de8>:10: SettingWithCopyWarning: \n",
      "A value is trying to be set on a copy of a slice from a DataFrame.\n",
      "Try using .loc[row_indexer,col_indexer] = value instead\n",
      "\n",
      "See the caveats in the documentation: https://pandas.pydata.org/pandas-docs/stable/user_guide/indexing.html#returning-a-view-versus-a-copy\n",
      "  df['title'] = tokenizer(df['title'])\n"
     ]
    }
   ],
   "source": [
    "def tokenizer(series):\n",
    "    series = series.str.lower()\n",
    "    series = series.str.replace('\\d+', '')\n",
    "    series = series.str.replace('\\W+', ' ')\n",
    "    series = series.str.split(' ')\n",
    "    return series\n",
    "    \n",
    "    \n",
    "    \n",
    "df['title'] = tokenizer(df['title'])"
   ]
  },
  {
   "cell_type": "markdown",
   "metadata": {},
   "source": [
    "# Generate tf Vector"
   ]
  },
  {
   "cell_type": "code",
   "execution_count": 104,
   "metadata": {},
   "outputs": [],
   "source": [
    "for tokens in df['title']:\n",
    "    dict(Counter(tokens))"
   ]
  },
  {
   "cell_type": "code",
   "execution_count": null,
   "metadata": {},
   "outputs": [],
   "source": []
  }
 ],
 "metadata": {
  "kernelspec": {
   "display_name": "Python 3",
   "language": "python",
   "name": "python3"
  },
  "language_info": {
   "codemirror_mode": {
    "name": "ipython",
    "version": 3
   },
   "file_extension": ".py",
   "mimetype": "text/x-python",
   "name": "python",
   "nbconvert_exporter": "python",
   "pygments_lexer": "ipython3",
   "version": "3.8.6"
  }
 },
 "nbformat": 4,
 "nbformat_minor": 4
}
